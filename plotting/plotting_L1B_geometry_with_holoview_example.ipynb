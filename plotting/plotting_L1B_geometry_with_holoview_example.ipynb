{
 "cells": [
  {
   "cell_type": "code",
   "execution_count": null,
   "metadata": {},
   "outputs": [],
   "source": [
    "from IPython.display import display, HTML\n",
    "display(HTML(\"<style>.container { width:90% !important; }</style>\"))\n",
    "\n",
    "import holoviews as hv\n",
    "hv.extension('bokeh')\n",
    "import geoviews as gv\n",
    "\n",
    "import datatree\n",
    "import numpy as np\n",
    "from glob import glob\n",
    "import os\n",
    "import matplotlib.pyplot as plt\n",
    "from shapely import geometry\n",
    "from shapely import wkt\n",
    "\n",
    "from get_polygons_from_l1b import get_polygons_from_l1b"
   ]
  },
  {
   "cell_type": "code",
   "execution_count": null,
   "id": "52f92190-5ae2-4be6-9ba1-0c692af801b2",
   "metadata": {},
   "outputs": [],
   "source": [
    "#path = '/home/amouche/data/sentinel1/XSAR_L1B/L1B_SLC/v1.4a/S1A_IW_SLC*20210306*.SAFE/'\n",
    "#path = '/home/amouche/data/sentinel1/XSAR_L1B/L1B_SLC/v1.4a/S1A_IW_SLC*20210306T072758_20210306T072828*.SAFE/'\n",
    "path = '/home/datawork-cersat-public/project/sarwave/data/products/tests/iw/slc/l1b/1.4a/S1A_IW_SLC*20210306*.SAFE/'\n",
    "#path = '/home/amouche/data/sentinel1/XSAR_L1B/L1B_SLC/v1.4a/S1A_IW_SLC__1SDV_20210306T072758_20210306T072828_036874_04562A_A67C.SAFE/'\n",
    "files = glob(path + '*vv*.nc')\n",
    "len(files)"
   ]
  },
  {
   "cell_type": "markdown",
   "metadata": {},
   "source": [
    "## Load the polygons pts from L1B"
   ]
  },
  {
   "cell_type": "code",
   "execution_count": null,
   "id": "3585453f-a15c-490e-ad08-129c10a44935",
   "metadata": {},
   "outputs": [],
   "source": [
    "pts_swath,pts_tiles = get_polygons_from_l1b(files)"
   ]
  },
  {
   "cell_type": "markdown",
   "metadata": {},
   "source": [
    "## Create layers of polygons with specific properties"
   ]
  },
  {
   "cell_type": "code",
   "execution_count": null,
   "metadata": {},
   "outputs": [],
   "source": [
    "polys_swath = [gv.Polygons({('Longitude','Latitude'): _pts_swath},kdims=['Longitude','Latitude']).opts(color='white',fill_color='white',alpha=0.125) for _pts_swath in pts_swath]\n",
    "polys_tiles_intra = [gv.Polygons({('Longitude','Latitude'): _pts_tiles_intra},kdims=['Longitude','Latitude']).opts(color='blue',fill_color='blue',alpha=0.25) for _pts_tiles_intra in pts_tiles['intraburst']]\n",
    "polys_tiles_inter = [gv.Polygons({('Longitude','Latitude'): _pts_tiles_inter},kdims=['Longitude','Latitude']).opts(color='red',fill_color='red',alpha=0.5) for _pts_tiles_inter in pts_tiles['interburst']]\n",
    "gvvbckg = gv.tile_sources.EsriImagery\n"
   ]
  },
  {
   "cell_type": "code",
   "execution_count": null,
   "metadata": {},
   "outputs": [],
   "source": [
    "#t0 = time()\n",
    "(gvvbckg*hv.Overlay(polys_swath)*hv.Overlay(polys_tiles_intra)*hv.Overlay(polys_tiles_inter)).opts(width=1000,height=1500,tools=['hover'])\n",
    "#t1 = time()\n",
    "#print(t1-t0)"
   ]
  }
 ],
 "metadata": {
  "kernelspec": {
   "display_name": "xsarslc",
   "language": "python",
   "name": "xsarslc"
  },
  "language_info": {
   "codemirror_mode": {
    "name": "ipython",
    "version": 3
   },
   "file_extension": ".py",
   "mimetype": "text/x-python",
   "name": "python",
   "nbconvert_exporter": "python",
   "pygments_lexer": "ipython3",
   "version": "3.10.9"
  }
 },
 "nbformat": 4,
 "nbformat_minor": 5
}
