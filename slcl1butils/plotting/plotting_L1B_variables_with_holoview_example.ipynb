{
 "cells": [
  {
   "cell_type": "code",
   "execution_count": null,
   "id": "137f73fc-b4ef-45a8-bf7f-59e3dd1cd10c",
   "metadata": {},
   "outputs": [],
   "source": [
    "import holoviews as hv\n",
    "hv.extension('bokeh')\n",
    "import geoviews as gv\n",
    "\n",
    "import datatree\n",
    "import numpy as np\n",
    "from glob import glob\n",
    "import os\n",
    "import matplotlib.pyplot as plt\n",
    "from shapely import geometry\n",
    "from shapely import wkt\n",
    "\n",
    "from get_polygones_from_l1b import get_polys_with_varname"
   ]
  },
  {
   "cell_type": "code",
   "execution_count": null,
   "id": "60760ff6-bda3-4291-a039-86d4ebc672a8",
   "metadata": {},
   "outputs": [],
   "source": [
    "#path = '/home/amouche/data/sentinel1/XSAR_L1B/L1B_SLC/v1.4a/S1A_IW_SLC*20210306*.SAFE/'\n",
    "#path = '/home/amouche/data/sentinel1/XSAR_L1C/L1C_SLC/v1.4a/S1A_IW_SLC*20210306*.SAFE/'\n",
    "path = '/home/datawork-cersat-public/project/sarwave/data/products/tests/iw/slc/l1b/1.4a/S1A_IW_SLC*20210306*.SAFE/'\n",
    "files = glob(path + '*vv*.nc')\n"
   ]
  },
  {
   "cell_type": "code",
   "execution_count": null,
   "id": "83bf2f02-9079-41a9-8838-c2a789508d02",
   "metadata": {},
   "outputs": [],
   "source": [
    "polys = get_polys_with_varname(files,burst_type=['intraburst'],varname='doppler_centroid',cmap='seismic',alpha=0.75,clim=(-0.1,0.1))\n",
    "#polys = get_polys_with_varname(files,burst_type=['interburst'],varname='macs_Im',cmap='seismic',alpha=0.75,clim=(-100,100))"
   ]
  },
  {
   "cell_type": "code",
   "execution_count": null,
   "id": "ae34341a-ea20-4843-9c5e-25eff147b86c",
   "metadata": {},
   "outputs": [],
   "source": [
    "\n",
    "polys.opts(width=1000,height=1500,tools=['hover'])"
   ]
  }
 ],
 "metadata": {
  "kernelspec": {
   "display_name": "Python 3 (ipykernel)",
   "language": "python",
   "name": "python3"
  },
  "language_info": {
   "codemirror_mode": {
    "name": "ipython",
    "version": 3
   },
   "file_extension": ".py",
   "mimetype": "text/x-python",
   "name": "python",
   "nbconvert_exporter": "python",
   "pygments_lexer": "ipython3",
   "version": "3.9.15"
  }
 },
 "nbformat": 4,
 "nbformat_minor": 5
}
