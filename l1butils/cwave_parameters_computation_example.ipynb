{
 "cells": [
  {
   "cell_type": "code",
   "execution_count": null,
   "metadata": {},
   "outputs": [],
   "source": []
  },
  {
   "cell_type": "code",
   "execution_count": null,
   "metadata": {},
   "outputs": [],
   "source": [
    "from glob import glob\n",
    "import datatree\n",
    "import numpy as np\n",
    "import xarray as xr\n",
    "\n",
    "#import xsarslc\n",
    "#from xsarslc.processing import xspectra\n",
    "\n",
    "from datatree import DataTree\n",
    "\n",
    "import matplotlib.pyplot as plt\n",
    "\n",
    "from cwave import compute_cwave_parameters\n",
    "from compute_from_l1b import compute_xs_from_l1b\n",
    "\n",
    "path = '/home/datawork-cersat-public/project/sarwave/data/products/tests/iw/slc/l1b/1.4a/'\n",
    "safe_file = path + 'S1A_IW_SLC__1SDV_20211026T164727_20211026T164754_040293_04C642_C0D1.SAFE/'\n",
    "pol='vv';level='*_L1B_*'\n",
    "files = glob(safe_file + 's1*-iw*-slc-'+pol+'*'+level+'*.nc')\n",
    "_file = files[0]\n",
    "\n",
    "\n",
    "_file"
   ]
  },
  {
   "cell_type": "code",
   "execution_count": null,
   "metadata": {},
   "outputs": [],
   "source": []
  },
  {
   "cell_type": "code",
   "execution_count": null,
   "metadata": {},
   "outputs": [],
   "source": [
    "dt = DataTree()\n",
    "\n",
    "#====================\n",
    "# CWAVE \n",
    "#====================\n",
    "\n",
    "# CWAVE Processing Parameters\n",
    "kmax = 2 * np.pi / 25\n",
    "kmin = 2 * np.pi / 600\n",
    "Nk=4; Nphi=5\n",
    "\n",
    "# Intra-burst at 2tau CWAVE parameters\n",
    "burst_type='intra';time_separation='2tau'\n",
    "xs_intra,ds_intra = compute_xs_from_l1b(_file,burst_type=burst_type,time_separation=time_separation)\n",
    "cwave_parameters_intra = compute_cwave_parameters(xs_intra, save_kernel=False,  kmax=kmax, kmin=kmin, Nk=Nk, Nphi=Nphi)\n",
    "# Updating the dataset\n",
    "ds_intra = xr.merge([ds_intra,cwave_parameters_intra])\n",
    "# Updating the output datatree\n",
    "dt[burst_type+'burst_xspectra'] = DataTree(data=ds_intra)\n",
    "\n",
    "# Inter-burst CWAVE parameters\n",
    "burst_type='inter';time_separation='None'\n",
    "xs_inter,ds_inter = compute_xs_from_l1b(_file,burst_type=burst_type,time_separation=time_separation)\n",
    "cwave_parameters_inter = compute_cwave_parameters(xs_inter, save_kernel=False,  kmax=kmax, kmin=kmin, Nk=Nk, Nphi=Nphi)\n",
    "# Updating the dataset\n",
    "ds_inter = xr.merge([ds_inter,cwave_parameters_inter])\n",
    "# Updating the output datatree\n",
    "dt[burst_type+'burst_xspectra'] = DataTree(data=ds_inter)\n",
    "\n"
   ]
  },
  {
   "cell_type": "code",
   "execution_count": null,
   "metadata": {},
   "outputs": [],
   "source": [
    "\n",
    "cwave_parameters_inter.cwave_params.sel(phi_hf=5,k_gp=3).plot(x='longitude',y='latitude');plt.grid()"
   ]
  },
  {
   "cell_type": "code",
   "execution_count": null,
   "metadata": {},
   "outputs": [],
   "source": [
    "cwave_parameters_intra.cwave_params.sel(phi_hf=5,k_gp=3).plot(x='longitude',y='latitude');plt.grid()"
   ]
  },
  {
   "cell_type": "code",
   "execution_count": null,
   "metadata": {},
   "outputs": [],
   "source": []
  }
 ],
 "metadata": {
  "kernelspec": {
   "display_name": "xsarslc",
   "language": "python",
   "name": "xsarslc"
  },
  "language_info": {
   "codemirror_mode": {
    "name": "ipython",
    "version": 3
   },
   "file_extension": ".py",
   "mimetype": "text/x-python",
   "name": "python",
   "nbconvert_exporter": "python",
   "pygments_lexer": "ipython3",
   "version": "3.10.9"
  }
 },
 "nbformat": 4,
 "nbformat_minor": 4
}
