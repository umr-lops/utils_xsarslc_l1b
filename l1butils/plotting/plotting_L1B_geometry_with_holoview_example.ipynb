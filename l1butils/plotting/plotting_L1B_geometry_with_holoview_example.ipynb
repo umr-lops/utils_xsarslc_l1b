{
 "cells": [
  {
   "cell_type": "code",
   "execution_count": null,
   "id": "834371f1-0262-4bd9-a95e-8125c6a2793e",
   "metadata": {},
   "outputs": [],
   "source": [
    "import holoviews as hv\n",
    "hv.extension('bokeh')\n",
    "import geoviews as gv\n",
    "\n",
    "import datatree\n",
    "import numpy as np\n",
    "from glob import glob\n",
    "import os\n",
    "import matplotlib.pyplot as plt\n",
    "from shapely import geometry\n",
    "from shapely import wkt\n",
    "\n",
    "from get_polygones_from_l1b import get_polys_alone"
   ]
  },
  {
   "cell_type": "code",
   "execution_count": null,
   "id": "52f92190-5ae2-4be6-9ba1-0c692af801b2",
   "metadata": {},
   "outputs": [],
   "source": [
    "#path = '/home/amouche/data/sentinel1/XSAR_L1B/L1B_SLC/v1.4a/S1A_IW_SLC*20210306*.SAFE/'\n",
    "#path = '/home/amouche/data/sentinel1/XSAR_L1B/L1B_SLC/v1.4a/S1A_IW_SLC*20210306T072758_20210306T072828*.SAFE/'\n",
    "path = '/home/datawork-cersat-public/project/sarwave/data/products/tests/iw/slc/l1b/1.4a/S1A_IW_SLC*20210306*.SAFE/'\n",
    "#path = '/home/amouche/data/sentinel1/XSAR_L1B/L1B_SLC/v1.4a/S1A_IW_SLC__1SDV_20210306T072758_20210306T072828_036874_04562A_A67C.SAFE/'\n",
    "files = glob(path + '*vv*.nc')\n"
   ]
  },
  {
   "cell_type": "code",
   "execution_count": null,
   "id": "3585453f-a15c-490e-ad08-129c10a44935",
   "metadata": {},
   "outputs": [],
   "source": [
    "polys = get_polys_alone(files)"
   ]
  },
  {
   "cell_type": "code",
   "execution_count": null,
   "id": "9ae1c2aa-3dbf-42f2-9b4c-d5a89839b7da",
   "metadata": {},
   "outputs": [],
   "source": [
    "polys.opts(width=1000,height=1500,tools=['hover'])"
   ]
  }
 ],
 "metadata": {
  "kernelspec": {
   "display_name": "Python 3 (ipykernel)",
   "language": "python",
   "name": "python3"
  },
  "language_info": {
   "codemirror_mode": {
    "name": "ipython",
    "version": 3
   },
   "file_extension": ".py",
   "mimetype": "text/x-python",
   "name": "python",
   "nbconvert_exporter": "python",
   "pygments_lexer": "ipython3",
   "version": "3.9.15"
  }
 },
 "nbformat": 4,
 "nbformat_minor": 5
}
