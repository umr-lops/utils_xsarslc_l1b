{
 "cells": [
  {
   "cell_type": "code",
   "execution_count": null,
   "metadata": {},
   "outputs": [],
   "source": [
    "import os \n",
    "from glob import glob\n",
    "from compute_from_l1b import do_L1C_SAFE_from_L1B_SAFE"
   ]
  },
  {
   "cell_type": "code",
   "execution_count": null,
   "metadata": {},
   "outputs": [],
   "source": [
    "safe_path = '/home/datawork-cersat-public/project/sarwave/data/products/tests/iw/slc/l1b/1.4a/'\n",
    "safe_file = 'S1A_IW_SLC__1SDV_20211026T164727_20211026T164754_040293_04C642_C0D1.SAFE'"
   ]
  },
  {
   "cell_type": "code",
   "execution_count": null,
   "metadata": {},
   "outputs": [],
   "source": [
    "# Niran\n",
    "full_safe_files = glob(safe_path+'*20210306*')\n"
   ]
  },
  {
   "cell_type": "code",
   "execution_count": null,
   "metadata": {
    "scrolled": false
   },
   "outputs": [],
   "source": [
    "\n",
    "for full_safe_file in full_safe_files:\n",
    "    \n",
    "    print('')\n",
    "    print('===')\n",
    "    print(os.path.basename(full_safe_file))\n",
    "    print('===')\n",
    "    ret = do_L1C_SAFE_from_L1B_SAFE(full_safe_file)\n",
    "            "
   ]
  }
 ],
 "metadata": {
  "kernelspec": {
   "display_name": "xsarslc",
   "language": "python",
   "name": "xsarslc"
  },
  "language_info": {
   "codemirror_mode": {
    "name": "ipython",
    "version": 3
   },
   "file_extension": ".py",
   "mimetype": "text/x-python",
   "name": "python",
   "nbconvert_exporter": "python",
   "pygments_lexer": "ipython3",
   "version": "3.10.9"
  }
 },
 "nbformat": 4,
 "nbformat_minor": 2
}
