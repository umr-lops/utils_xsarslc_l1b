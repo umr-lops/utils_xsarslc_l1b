{
 "cells": [
  {
   "cell_type": "code",
   "execution_count": null,
   "id": "b67b28f0",
   "metadata": {},
   "outputs": [],
   "source": [
    "import holoviews as hv\n",
    "hv.extension('bokeh')\n",
    "import geoviews as gv\n",
    "\n",
    "\n",
    "from glob import glob\n",
    "from time import time\n",
    "\n",
    "import os, sys \n",
    "from l1butils.get_polygons_from_l1b import get_swath_tiles_polygons_from_l1bfiles"
   ]
  },
  {
   "cell_type": "code",
   "execution_count": null,
   "id": "f06ab064",
   "metadata": {},
   "outputs": [],
   "source": [
    "version = \"1.4g\"; polarization = 'vv'\n",
    "#version = '1.4d'; polarization = 'vh'\n",
    "#path = '/home/amouche/data/sentinel1/XSAR_L1B/L1B_SLC/v1.4a/S1A_IW_SLC*20210306*.SAFE/'\n",
    "#path = '/home/amouche/data/sentinel1/XSAR_L1B/L1B_SLC/v1.4a/S1A_IW_SLC*20210306T072758_20210306T072828*.SAFE/'\n",
    "#path = '/home/datawork-cersat-public/project/sarwave/data/products/tests/iw/slc/l1b/1.4e/S1A_IW_*20210306*.SAFE/'\n",
    "#path = '/home/amouche/data/sentinel1/XSAR_L1B/L1B_SLC/v1.4a/S1A_IW_SLC__1SDV_20210306T072758_20210306T072828_036874_04562A_A67C.SAFE/'\n",
    "#path = '/home/datawork-cersat-public/project/sarwave/data/products/tests/iw/slc/l1b/'+version+'/S1B_IW_XSP__1SDV_20210904T070542_20210904T070612_028545_03680D_4250.SAFE/'\n",
    "path = '/home/datawork-cersat-public/project/sarwave/data/products/tests/iw/slc/l1b/'+version+'/S1*_IW_XSP__1SDV_20210306T06*.SAFE/'\n",
    "files = glob(path + '*'+polarization+'*.nc')\n",
    "len(files)\n",
    "title = 'Version : ' + version + ' - Polarization : ' + polarization.upper()"
   ]
  },
  {
   "cell_type": "code",
   "execution_count": null,
   "metadata": {},
   "outputs": [],
   "source": [
    "files"
   ]
  },
  {
   "cell_type": "markdown",
   "id": "b3481b70",
   "metadata": {},
   "source": [
    "## Load the polygons pts from L1B"
   ]
  },
  {
   "cell_type": "code",
   "execution_count": null,
   "id": "630dba19",
   "metadata": {},
   "outputs": [],
   "source": [
    "polygons,coordinates = get_swath_tiles_polygons_from_l1bfiles(files)\n"
   ]
  },
  {
   "cell_type": "markdown",
   "id": "23b35698",
   "metadata": {},
   "source": [
    "## Create layers of polygons with specific properties"
   ]
  },
  {
   "cell_type": "code",
   "execution_count": null,
   "id": "830e8ceb",
   "metadata": {},
   "outputs": [],
   "source": [
    "# Background Map\n",
    "gvvbckg = gv.tile_sources.EsriImagery\n",
    "# Swath limits \n",
    "gvvswath = gv.Polygons(polygons['intra']['swath'],label='swath').opts(fill_color='white',alpha=0.5,show_legend=True, muted_alpha=0)\n",
    "# Burst limits\n",
    "gvvburst = gv.Polygons(polygons['intra']['bursts'],label='burst').opts(fill_color='green',alpha=0.5,show_legend=True, muted_alpha=0)\n",
    "# Intra and inter bursts polygons\n",
    "gvvtile_intra = gv.Polygons(polygons['intra']['tiles'],label='intraburst tiles').opts(fill_color='blue',alpha=0.5, show_legend=True, muted_alpha=0)\n",
    "gvvtile_inter = gv.Polygons(polygons['inter']['tiles'],label='interburst tiles').opts(fill_color='red',alpha=0.5,show_legend=True, muted_alpha=0)\n"
   ]
  },
  {
   "cell_type": "markdown",
   "id": "46f9f22b",
   "metadata": {},
   "source": [
    "## Plotting"
   ]
  },
  {
   "cell_type": "code",
   "execution_count": null,
   "id": "e1b6e360",
   "metadata": {},
   "outputs": [],
   "source": [
    "# Preparing the layer and window options\n",
    "ff = (gvvbckg*gvvswath*gvvburst*gvvtile_intra*gvvtile_inter).opts(width=1000,height=1000, legend_position='top_right',title=title)#,show_legend=True,tools=[\"hover\", \"wheel_zoom\"], legend_position='top_right')"
   ]
  },
  {
   "cell_type": "code",
   "execution_count": null,
   "id": "1c9d16fe",
   "metadata": {},
   "outputs": [],
   "source": [
    "# Simple and direct plotting\n",
    "ff"
   ]
  },
  {
   "cell_type": "code",
   "execution_count": null,
   "id": "01f63df3",
   "metadata": {},
   "outputs": [],
   "source": [
    "# Save plot in HTML\n",
    "import holoviews as hv\n",
    "import numpy as np\n",
    "import panel as pn\n",
    "import bokeh\n",
    "from bokeh.resources import INLINE\n",
    "\n",
    "pn.pane.HoloViews(ff).save('example_geometry_l1b_1.4g', embed=True, resources=INLINE)"
   ]
  }
 ],
 "metadata": {
  "kernelspec": {
   "display_name": "Python 3 (ipykernel)",
   "language": "python",
   "name": "python3"
  },
  "language_info": {
   "codemirror_mode": {
    "name": "ipython",
    "version": 3
   },
   "file_extension": ".py",
   "mimetype": "text/x-python",
   "name": "python",
   "nbconvert_exporter": "python",
   "pygments_lexer": "ipython3",
   "version": "3.9.15"
  }
 },
 "nbformat": 4,
 "nbformat_minor": 5
}
