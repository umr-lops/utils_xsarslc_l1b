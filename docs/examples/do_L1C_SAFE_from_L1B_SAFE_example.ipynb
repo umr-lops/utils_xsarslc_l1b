{
 "cells": [
  {
   "cell_type": "markdown",
   "metadata": {},
   "source": [
    "# create L1C file from L1B"
   ]
  },
  {
   "cell_type": "code",
   "execution_count": null,
   "metadata": {
    "tags": []
   },
   "outputs": [],
   "source": [
    "import os, sys \n",
    "from glob import glob\n",
    "from slcl1butils.scripts.do_IW_L1C_SAFE_from_L1B_SAFE import do_L1C_SAFE_from_L1B_SAFE\n",
    "import slcl1butils.utils\n",
    "from importlib import reload\n",
    "from slcl1butils.utils import get_test_file\n",
    "import logging\n",
    "reload(logging)\n",
    "logging.basicConfig(level=logging.INFO)"
   ]
  },
  {
   "cell_type": "code",
   "execution_count": null,
   "metadata": {
    "tags": []
   },
   "outputs": [],
   "source": [
    "from slcl1butils.get_config import get_conf\n",
    "conf = get_conf()\n",
    "conf"
   ]
  },
  {
   "cell_type": "code",
   "execution_count": null,
   "metadata": {
    "tags": []
   },
   "outputs": [],
   "source": [
    "#l1bncfile_pattern = os.path.abspath('../../assests/*IW*SAFE')\n",
    "\n",
    "#print(l1bncfile_pattern)\n",
    "#lst = glob(l1bncfile_pattern)\n",
    "one_safe_l1b = get_test_file('S1B_IW_XSP__1SDV_20211026T045709_20211026T045736_029302_037F35_1CD7.SAFE')\n",
    "#full_safe_files = lst[0]\n",
    "#full_safe_files\n",
    "one_safe_l1b"
   ]
  },
  {
   "cell_type": "code",
   "execution_count": null,
   "metadata": {
    "tags": []
   },
   "outputs": [],
   "source": [
    "full_safe_files = [one_safe_l1b]\n",
    "version = '0.1'\n",
    "for full_safe_file in full_safe_files:\n",
    "    \n",
    "    print('')\n",
    "    print('===')\n",
    "    print(os.path.basename(full_safe_file))\n",
    "    print('===')\n",
    "    ret = do_L1C_SAFE_from_L1B_SAFE(full_safe_file,version=version,outputdir=conf['iw_outputdir'])\n",
    "            "
   ]
  }
 ],
 "metadata": {
  "kernelspec": {
   "display_name": "Python 3 (ipykernel)",
   "language": "python",
   "name": "python3"
  },
  "language_info": {
   "codemirror_mode": {
    "name": "ipython",
    "version": 3
   },
   "file_extension": ".py",
   "mimetype": "text/x-python",
   "name": "python",
   "nbconvert_exporter": "python",
   "pygments_lexer": "ipython3",
   "version": "3.9.15"
  }
 },
 "nbformat": 4,
 "nbformat_minor": 4
}
