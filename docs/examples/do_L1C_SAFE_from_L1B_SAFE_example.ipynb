{
 "cells": [
  {
   "cell_type": "code",
   "execution_count": null,
   "metadata": {
    "tags": []
   },
   "outputs": [],
   "source": [
    "import os, sys \n",
    "from glob import glob\n",
    "from l1butils.scripts.do_L1C_SAFE_from_L1B_SAFE import do_L1C_SAFE_from_L1B_SAFE"
   ]
  },
  {
   "cell_type": "code",
   "execution_count": null,
   "metadata": {},
   "outputs": [],
   "source": [
    "l1bncfile_pattern = os.path.abspath('../../assests/*IW*SAFE')\n",
    "print(l1bncfile_pattern)\n",
    "lst = glob.glob(l1bncfile_pattern)\n",
    "full_safe_files = lst[0]\n",
    "full_safe_files\n"
   ]
  },
  {
   "cell_type": "code",
   "execution_count": null,
   "metadata": {},
   "outputs": [],
   "source": [
    "\n",
    "for full_safe_file in full_safe_files:\n",
    "    \n",
    "    print('')\n",
    "    print('===')\n",
    "    print(os.path.basename(full_safe_file))\n",
    "    print('===')\n",
    "    ret = do_L1C_SAFE_from_L1B_SAFE(full_safe_file)\n",
    "            "
   ]
  }
 ],
 "metadata": {
  "kernelspec": {
   "display_name": "Python 3 (ipykernel)",
   "language": "python",
   "name": "python3"
  },
  "language_info": {
   "codemirror_mode": {
    "name": "ipython",
    "version": 3
   },
   "file_extension": ".py",
   "mimetype": "text/x-python",
   "name": "python",
   "nbconvert_exporter": "python",
   "pygments_lexer": "ipython3",
   "version": "3.9.15"
  }
 },
 "nbformat": 4,
 "nbformat_minor": 4
}
