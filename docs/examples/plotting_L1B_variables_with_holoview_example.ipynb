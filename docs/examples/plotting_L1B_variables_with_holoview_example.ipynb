{
 "cells": [
  {
   "cell_type": "code",
   "execution_count": null,
   "id": "15550a18",
   "metadata": {
    "tags": []
   },
   "outputs": [],
   "source": [
    "import holoviews as hv\n",
    "\n",
    "hv.extension(\"bokeh\")\n",
    "import geoviews as gv\n",
    "\n",
    "import numpy as np\n",
    "from glob import glob\n",
    "from time import time\n",
    "from importlib import reload\n",
    "import os, sys\n",
    "from slcl1butils.get_polygons_from_l1b import get_swath_tiles_polygons_from_l1bfiles"
   ]
  },
  {
   "cell_type": "code",
   "execution_count": null,
   "id": "13b760ae",
   "metadata": {
    "tags": []
   },
   "outputs": [],
   "source": [
    "from slcl1butils.utils import get_test_file\n",
    "\n",
    "one_safe_l1b = get_test_file(\n",
    "    \"S1B_IW_XSP__1SDV_20210328T055258_20210328T055325_026211_0320D4_DC31_A13.SAFE\"\n",
    ")\n",
    "l1bncfile_pattern = os.path.join(one_safe_l1b, \"*iw*nc\")\n",
    "print(l1bncfile_pattern)\n",
    "files = glob(l1bncfile_pattern)\n",
    "len(files)"
   ]
  },
  {
   "cell_type": "markdown",
   "id": "3c75a89c",
   "metadata": {},
   "source": [
    "## Load the polygons pts and corresponding variables from L1B"
   ]
  },
  {
   "cell_type": "code",
   "execution_count": null,
   "id": "1471e81b",
   "metadata": {
    "tags": []
   },
   "outputs": [],
   "source": [
    "import slcl1butils.get_polygons_from_l1b\n",
    "\n",
    "reload(slcl1butils.get_polygons_from_l1b)\n",
    "(\n",
    "    polygons,\n",
    "    coordinates,\n",
    "    variables,\n",
    ") = slcl1butils.get_polygons_from_l1b.get_swath_tiles_polygons_from_l1bfiles(\n",
    "    files, polarization=\"VV\", variable_names=[\"sigma0\"]\n",
    ")"
   ]
  },
  {
   "cell_type": "markdown",
   "id": "e6538ca9",
   "metadata": {},
   "source": [
    "## Define boundaries for each variable to adjust the colorbar"
   ]
  },
  {
   "cell_type": "code",
   "execution_count": null,
   "id": "31a3fa9d",
   "metadata": {
    "tags": []
   },
   "outputs": [],
   "source": [
    "# burst_type = 'intra'\n",
    "burst_type = \"intra\"\n",
    "varis = [var for var in variables[\"intra\"].keys()]\n",
    "for var in varis:\n",
    "    variables[burst_type][var + \"_clim\"] = (\n",
    "        np.nanpercentile(np.array(variables[burst_type][var]), 1.0),\n",
    "        np.nanpercentile(np.array(variables[burst_type][var]), 99.0),\n",
    "    )"
   ]
  },
  {
   "cell_type": "markdown",
   "id": "2bd82912",
   "metadata": {},
   "source": [
    "## Example for plotting the NRCS (sigma0)"
   ]
  },
  {
   "cell_type": "code",
   "execution_count": null,
   "id": "641ba6ed",
   "metadata": {
    "tags": []
   },
   "outputs": [],
   "source": [
    "vari = \"sigma0\"\n",
    "variable = variables[burst_type][vari]\n",
    "clim = variables[burst_type][vari + \"_clim\"]"
   ]
  },
  {
   "cell_type": "markdown",
   "id": "9fb07124",
   "metadata": {},
   "source": [
    "#### Build the polygons and associated color for each tiles"
   ]
  },
  {
   "cell_type": "code",
   "execution_count": null,
   "id": "d7730127",
   "metadata": {
    "tags": []
   },
   "outputs": [],
   "source": [
    "gsigvv = []\n",
    "for cpt in np.arange(len(variable)):\n",
    "    pts = [\n",
    "        (i, j)\n",
    "        for i, j in zip(\n",
    "            polygons[burst_type][\"tiles\"][cpt].exterior.xy[0].tolist(),\n",
    "            polygons[burst_type][\"tiles\"][cpt].exterior.xy[1].tolist(),\n",
    "        )\n",
    "    ]\n",
    "    gsigvv.append(\n",
    "        gv.Polygons(\n",
    "            {(\"Longitude\", \"Latitude\"): pts, \"level\": variable[cpt]},\n",
    "            vdims=\"level\",\n",
    "            kdims=[\"Longitude\", \"Latitude\"],\n",
    "        ).opts(\n",
    "            color=\"NA\",\n",
    "            colorbar=True,\n",
    "            cmap=\"Greys_r\",\n",
    "            clim=clim,\n",
    "            alpha=0.75,\n",
    "            muted_alpha=0,\n",
    "        )\n",
    "    )"
   ]
  },
  {
   "cell_type": "markdown",
   "id": "20166318",
   "metadata": {},
   "source": [
    "#### Build the polygons for tile intra and tiles inter, swath and map background"
   ]
  },
  {
   "cell_type": "code",
   "execution_count": null,
   "id": "6c44f304",
   "metadata": {
    "tags": []
   },
   "outputs": [],
   "source": [
    "# Background cartography\n",
    "gvvbckg = gv.tile_sources.EsriImagery\n",
    "# Swath limits\n",
    "gvvswath = gv.Polygons(polygons[\"intra\"][\"swath\"], label=\"swath\").opts(\n",
    "    fill_color=\"white\", alpha=0.25, show_legend=True, muted_alpha=0, tools=[\"hover\"]\n",
    ")\n",
    "# Intra and inter bursts polygons\n",
    "gvvtile_intra = gv.Polygons(polygons[\"intra\"][\"tiles\"], label=\"intraburst tiles\").opts(\n",
    "    fill_color=\"blue\", alpha=0.25, show_legend=True, muted_alpha=0, tools=[\"hover\"]\n",
    ")\n",
    "gvvtile_inter = gv.Polygons(polygons[\"inter\"][\"tiles\"], label=\"interburst tiles\").opts(\n",
    "    fill_color=\"red\", alpha=0.25, show_legend=True, muted_alpha=0\n",
    ")"
   ]
  },
  {
   "cell_type": "markdown",
   "id": "c34ec40e",
   "metadata": {},
   "source": [
    "#### Simple direct plotting"
   ]
  },
  {
   "cell_type": "code",
   "execution_count": null,
   "id": "d84ced8a",
   "metadata": {
    "tags": []
   },
   "outputs": [],
   "source": [
    "(gvvbckg * gvvswath * gvvtile_intra * gvvtile_inter * hv.Overlay(gsigvv)).opts(\n",
    "    width=1000, height=1500, tools=[\"hover\"], legend_position=\"top_right\"\n",
    ")"
   ]
  }
 ],
 "metadata": {
  "language_info": {
   "codemirror_mode": {
    "name": "ipython",
    "version": 3
   },
   "file_extension": ".py",
   "mimetype": "text/x-python",
   "name": "python",
   "nbconvert_exporter": "python",
   "pygments_lexer": "ipython3"
  }
 },
 "nbformat": 4,
 "nbformat_minor": 5
}
