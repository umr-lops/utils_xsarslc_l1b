{
 "cells": [
  {
   "cell_type": "code",
   "execution_count": null,
   "id": "15550a18",
   "metadata": {
    "tags": []
   },
   "outputs": [],
   "source": [
    "import holoviews as hv\n",
    "hv.extension('bokeh')\n",
    "import geoviews as gv\n",
    "\n",
    "import numpy as np\n",
    "from glob import glob\n",
    "from time import time\n",
    "\n",
    "import os, sys \n",
    "from slcl1butils.get_polygons_from_l1b import get_swath_tiles_polygons_from_l1bfiles"
   ]
  },
  {
   "cell_type": "code",
   "execution_count": null,
   "id": "13b760ae",
   "metadata": {
    "tags": []
   },
   "outputs": [],
   "source": [
    "from slcl1butils.utils import get_test_file\n",
    "one_safe_l1b = get_test_file('S1B_IW_XSP__1SDV_20211026T045709_20211026T045736_029302_037F35_1CD7.SAFE')\n",
    "l1bncfile_pattern = os.path.join(one_safe_l1b,'*iw*vv*nc')\n",
    "print(l1bncfile_pattern)\n",
    "files = glob(l1bncfile_pattern)\n",
    "len(files)"
   ]
  },
  {
   "cell_type": "markdown",
   "id": "3c75a89c",
   "metadata": {},
   "source": [
    "## Load the polygons pts and corresponding variables from L1B"
   ]
  },
  {
   "cell_type": "code",
   "execution_count": null,
   "id": "1471e81b",
   "metadata": {
    "tags": []
   },
   "outputs": [],
   "source": [
    "polygons,coordinates,variables = get_swath_tiles_polygons_from_l1bfiles(files,variable_names=['sigma0'])"
   ]
  },
  {
   "cell_type": "markdown",
   "id": "e6538ca9",
   "metadata": {},
   "source": [
    "## Define boundaries for each variable to adjust the colorbar"
   ]
  },
  {
   "cell_type": "code",
   "execution_count": null,
   "id": "31a3fa9d",
   "metadata": {
    "tags": []
   },
   "outputs": [],
   "source": [
    "#burst_type = 'intra'\n",
    "burst_type = 'intra'\n",
    "varis = [var for var in variables['intra'].keys()]\n",
    "for var in varis:    \n",
    "    variables[burst_type][var+'_clim'] = (np.nanpercentile(np.array(variables[burst_type][var]), 1.), np.nanpercentile(np.array(variables[burst_type][var]),99.))\n"
   ]
  },
  {
   "cell_type": "markdown",
   "id": "2bd82912",
   "metadata": {},
   "source": [
    "## Example for plotting the NRCS (sigma0)"
   ]
  },
  {
   "cell_type": "code",
   "execution_count": null,
   "id": "641ba6ed",
   "metadata": {
    "tags": []
   },
   "outputs": [],
   "source": [
    "vari = 'sigma0'\n",
    "variable = variables[burst_type][vari]\n",
    "clim = variables[burst_type][vari+'_clim']"
   ]
  },
  {
   "cell_type": "markdown",
   "id": "9fb07124",
   "metadata": {},
   "source": [
    "#### Build the polygons and associated color for each tiles"
   ]
  },
  {
   "cell_type": "code",
   "execution_count": null,
   "id": "d7730127",
   "metadata": {
    "tags": []
   },
   "outputs": [],
   "source": [
    "gsigvv = []\n",
    "for cpt in np.arange(len(variable)):\n",
    "    pts= [(i,j) for i,j in zip(polygons[burst_type]['tiles'][cpt].exterior.xy[0].tolist(),polygons[burst_type]['tiles'][cpt].exterior.xy[1].tolist())]\n",
    "    gsigvv.append(gv.Polygons({('Longitude','Latitude'): pts, 'level':variable[cpt]},vdims='level',kdims=['Longitude','Latitude']).opts(color='NA',colorbar=True,cmap='Greys_r',clim=clim,alpha=0.75, muted_alpha=0))\n"
   ]
  },
  {
   "cell_type": "markdown",
   "id": "20166318",
   "metadata": {},
   "source": [
    "#### Build the polygons for tile intra and tiles inter, swath and map background"
   ]
  },
  {
   "cell_type": "code",
   "execution_count": null,
   "id": "6c44f304",
   "metadata": {
    "tags": []
   },
   "outputs": [],
   "source": [
    "# Background cartography\n",
    "gvvbckg = gv.tile_sources.EsriImagery\n",
    "# Swath limits \n",
    "gvvswath = gv.Polygons(polygons['intra']['swath'],label='swath').opts(fill_color='white',\n",
    "                                                                      alpha=0.25,show_legend=True, muted_alpha=0,tools=['hover'])\n",
    "# Intra and inter bursts polygons\n",
    "gvvtile_intra = gv.Polygons(polygons['intra']['tiles'],label='intraburst tiles').opts(fill_color='blue',\n",
    "                                                                    alpha=0.25, show_legend=True, muted_alpha=0,tools=['hover'])\n",
    "gvvtile_inter = gv.Polygons(polygons['inter']['tiles'],label='interburst tiles').opts(fill_color='red',\n",
    "                                                                                      alpha=0.25,show_legend=True, muted_alpha=0)\n"
   ]
  },
  {
   "cell_type": "markdown",
   "id": "c34ec40e",
   "metadata": {},
   "source": [
    "#### Simple direct plotting"
   ]
  },
  {
   "cell_type": "code",
   "execution_count": null,
   "id": "d84ced8a",
   "metadata": {
    "tags": []
   },
   "outputs": [],
   "source": [
    "(gvvbckg*gvvswath*gvvtile_intra*gvvtile_inter*hv.Overlay(gsigvv)).opts(width=1000,height=1500,tools=['hover'], legend_position='top_right')"
   ]
  }
 ],
 "metadata": {
  "kernelspec": {
   "display_name": "Python 3 (ipykernel)",
   "language": "python",
   "name": "python3"
  },
  "language_info": {
   "codemirror_mode": {
    "name": "ipython",
    "version": 3
   },
   "file_extension": ".py",
   "mimetype": "text/x-python",
   "name": "python",
   "nbconvert_exporter": "python",
   "pygments_lexer": "ipython3",
   "version": "3.9.15"
  }
 },
 "nbformat": 4,
 "nbformat_minor": 5
}
