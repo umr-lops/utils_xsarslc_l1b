{
 "cells": [
  {
   "cell_type": "markdown",
   "id": "204f6f9b-d283-4ca2-a8d1-23178cbfe09f",
   "metadata": {},
   "source": [
    "# Example to display a IW L1B x-spectra"
   ]
  },
  {
   "cell_type": "markdown",
   "id": "210c134b-0db9-4b09-a6f2-dcb59d299d63",
   "metadata": {},
   "source": [
    "## read L1B data"
   ]
  },
  {
   "cell_type": "code",
   "execution_count": null,
   "id": "fc4b9e79-a742-4dcd-a10e-60d0212150f0",
   "metadata": {
    "tags": []
   },
   "outputs": [],
   "source": [
    "import glob\n",
    "import os\n",
    "import datatree\n",
    "from slcl1butils.utils import get_test_file\n",
    "#l1bncfile_pattern = os.path.abspath('../../assests/*iw*nc')\n",
    "one_safe_l1b = get_test_file('S1B_IW_XSP__1SDV_20211026T045709_20211026T045736_029302_037F35_1CD7.SAFE')\n",
    "l1bncfile_pattern = os.path.join(one_safe_l1b,'*iw*vv*nc')\n",
    "print(l1bncfile_pattern)\n",
    "lst = glob.glob(l1bncfile_pattern)\n",
    "l1bncfile = lst[0]\n",
    "l1bncfile"
   ]
  },
  {
   "cell_type": "code",
   "execution_count": null,
   "id": "c0b32bf4-443a-471e-93ab-40eee475964a",
   "metadata": {
    "tags": []
   },
   "outputs": [],
   "source": [
    "dt = datatree.open_datatree(l1bncfile)\n",
    "dt"
   ]
  },
  {
   "cell_type": "markdown",
   "id": "d4b865b3-92f0-4e38-b8b3-12aaa5055081",
   "metadata": {},
   "source": [
    "## pick up intra or inter burst group"
   ]
  },
  {
   "cell_type": "code",
   "execution_count": null,
   "id": "0b77513c-6664-49c4-8d66-302e2c9f598c",
   "metadata": {
    "tags": []
   },
   "outputs": [],
   "source": [
    "#cat_xspec = 'inter'\n",
    "cat_xspec = 'intra'\n",
    "ds = dt[cat_xspec+'burst'].to_dataset()\n",
    "ds"
   ]
  },
  {
   "cell_type": "markdown",
   "id": "d530a636-1fea-4ba5-9bcb-1a97cab0bb4e",
   "metadata": {},
   "source": [
    "## recombine real part and imaginary part (as recommanded by Fred)"
   ]
  },
  {
   "cell_type": "code",
   "execution_count": null,
   "id": "b48601e0-02b7-4e41-a723-17f982169d49",
   "metadata": {
    "tags": []
   },
   "outputs": [],
   "source": [
    "for tautau in range(3):\n",
    "    ds['xspectra_%stau'%tautau] = ds['xspectra_%stau_Re'%tautau] + 1j*ds['xspectra_%stau_Im'%tautau]\n",
    "    ds = ds.drop(['xspectra_%stau_Re'%tautau,'xspectra_%stau_Im'%tautau])\n",
    "ds"
   ]
  },
  {
   "cell_type": "markdown",
   "id": "88e8f671-da71-4823-b078-bf37dde74ad8",
   "metadata": {},
   "source": [
    "# get corners from the tiles in each bursts of the sub-swath"
   ]
  },
  {
   "cell_type": "code",
   "execution_count": null,
   "id": "0e750a21-59ed-4910-bfcd-d932e53dfcac",
   "metadata": {
    "tags": []
   },
   "outputs": [],
   "source": [
    "import numpy as np\n",
    "from matplotlib import pyplot as plt\n",
    "from shapely.geometry import Polygon\n",
    "all_poly = {}\n",
    "all_poly_coords = {}\n",
    "for bursti in range(ds.burst.size):\n",
    "    for i_tile_sample in range(ds.tile_sample.size):\n",
    "        for i_tile_line in range(ds.tile_line.size):\n",
    "            #print('bursti',bursti,i_tile_sample,i_tile_line)\n",
    "            lonco  = ds['corner_longitude'].isel({'burst':bursti,'tile_sample':i_tile_sample,'tile_line':i_tile_line}).values.ravel(order='C')\n",
    "            latco  = ds['corner_latitude'].isel({'burst':bursti,'tile_sample':i_tile_sample,'tile_line':i_tile_line}).values.ravel(order='C')\n",
    "            coords = np.stack([lonco,latco]).T\n",
    "            #print('coords',coords)\n",
    "            coords = coords[[0,1,3,2,0]]\n",
    "            #print('coords2',coords)\n",
    "            pp = Polygon(coords)\n",
    "            #all_poly.append(pp)\n",
    "            all_poly['burst%s_sample%s_line%s'%(bursti,i_tile_sample,i_tile_line)] = pp\n",
    "            all_poly_coords['burst%s_sample%s_line%s'%(bursti,i_tile_sample,i_tile_line)] = coords\n",
    "print('done',len(all_poly.keys()))"
   ]
  },
  {
   "cell_type": "code",
   "execution_count": null,
   "id": "8d33225d-1fd5-416b-9539-5143456a3f79",
   "metadata": {
    "tags": []
   },
   "outputs": [],
   "source": [
    "import geoviews as gv\n",
    "import holoviews as hv\n",
    "gv.extension('bokeh')\n",
    "from shapely.geometry import Polygon\n",
    "import shapely.wkt\n",
    "\n",
    "P = shapely.wkt.loads(ds.footprint)\n",
    "#poly = Polygon(np.vstack([lons_tiles,lats_tiles]).T)\n",
    "print(P)\n",
    "foot = gv.Path(P).opts(color='magenta')\n",
    "tmp =[]\n",
    "for uu in  all_poly:\n",
    "    tmp.append(gv.Path(all_poly[uu]))\n",
    "(gv.tile_sources.Wikipedia * foot * hv.Overlay(tmp) ).opts(width=800,height=600,title='%s tiles SAR Sentinel-1 L1B IFREMER '%(cat_xspec))"
   ]
  },
  {
   "cell_type": "markdown",
   "id": "bc8af828-a3cb-4d44-97b9-d2bc83f8f144",
   "metadata": {},
   "source": [
    "# display pyplot figure of cross spectrum"
   ]
  },
  {
   "cell_type": "code",
   "execution_count": null,
   "id": "4368e9fc-d88d-408b-bede-a67b1c9f65db",
   "metadata": {
    "tags": []
   },
   "outputs": [],
   "source": [
    "\n",
    "\n",
    "import slcl1butils.plotting.display_one_spectra\n",
    "from importlib import reload\n",
    "reload(slcl1butils.plotting.display_one_spectra)\n",
    "\n",
    "tile_line_i = 0\n",
    "tile_sample_i = 3\n",
    "fig = plt.figure()\n",
    "slcl1butils.plotting.display_one_spectra.plot_a_single_xspec_cart_L1B_IW(ds,bursti,tile_line_i,tile_sample_i,'test display',fig,cat_xspec=cat_xspec,part='Re')"
   ]
  }
 ],
 "metadata": {
  "kernelspec": {
   "display_name": "Python 3 (ipykernel)",
   "language": "python",
   "name": "python3"
  },
  "language_info": {
   "codemirror_mode": {
    "name": "ipython",
    "version": 3
   },
   "file_extension": ".py",
   "mimetype": "text/x-python",
   "name": "python",
   "nbconvert_exporter": "python",
   "pygments_lexer": "ipython3",
   "version": "3.9.15"
  }
 },
 "nbformat": 4,
 "nbformat_minor": 5
}
