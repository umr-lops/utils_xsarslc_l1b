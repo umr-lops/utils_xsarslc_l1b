{
 "cells": [
  {
   "cell_type": "code",
   "execution_count": null,
   "metadata": {},
   "outputs": [],
   "source": [
    "import os, sys \n",
    "from glob import glob\n",
    "sys.path.append('/home1/datahome/amouche/PythonTool/utils_xsarslc_l1b/')\n",
    "from do_L1C_SAFE_from_L1B_SAFE import do_L1C_SAFE_from_L1B_SAFE"
   ]
  },
  {
   "cell_type": "code",
   "execution_count": null,
   "metadata": {},
   "outputs": [],
   "source": [
    "\n",
    "full_safe_files = ['/home/datawork-cersat-public/project/sarwave/data/products/tests/iw/slc/l1b/1.4c/S1B_IW_XSP__1SDV_20210420T094142_20210420T094208_026549_032B99_7071.SAFE']"
   ]
  },
  {
   "cell_type": "code",
   "execution_count": null,
   "metadata": {},
   "outputs": [],
   "source": [
    "\n",
    "for full_safe_file in full_safe_files:\n",
    "    \n",
    "    print('')\n",
    "    print('===')\n",
    "    print(os.path.basename(full_safe_file))\n",
    "    print('===')\n",
    "    ret = do_L1C_SAFE_from_L1B_SAFE(full_safe_file)\n",
    "            "
   ]
  }
 ],
 "metadata": {
  "kernelspec": {
   "display_name": "xsarslc",
   "language": "python",
   "name": "xsarslc"
  },
  "language_info": {
   "codemirror_mode": {
    "name": "ipython",
    "version": 3
   },
   "file_extension": ".py",
   "mimetype": "text/x-python",
   "name": "python",
   "nbconvert_exporter": "python",
   "pygments_lexer": "ipython3",
   "version": "3.10.9"
  }
 },
 "nbformat": 4,
 "nbformat_minor": 4
}
